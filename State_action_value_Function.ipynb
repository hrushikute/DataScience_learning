{
  "nbformat": 4,
  "nbformat_minor": 0,
  "metadata": {
    "colab": {
      "name": "State action value Function.ipynb",
      "provenance": [],
      "collapsed_sections": [],
      "authorship_tag": "ABX9TyPcH0TWjI/BxvWjgONp4knM",
      "include_colab_link": true
    },
    "kernelspec": {
      "name": "python3",
      "display_name": "Python 3"
    },
    "language_info": {
      "name": "python"
    }
  },
  "cells": [
    {
      "cell_type": "markdown",
      "metadata": {
        "id": "view-in-github",
        "colab_type": "text"
      },
      "source": [
        "<a href=\"https://colab.research.google.com/github/hrushikute/DataScience_learning/blob/main/State_action_value_Function.ipynb\" target=\"_parent\"><img src=\"https://colab.research.google.com/assets/colab-badge.svg\" alt=\"Open In Colab\"/></a>"
      ]
    },
    {
      "cell_type": "markdown",
      "source": [
        "# Reinforcement Learning \n",
        "## State action value Function "
      ],
      "metadata": {
        "id": "J103uJ0Mr90w"
      }
    },
    {
      "cell_type": "code",
      "execution_count": 13,
      "metadata": {
        "id": "GIiwY7-oqz7D",
        "colab": {
          "base_uri": "https://localhost:8080/"
        },
        "outputId": "e0ebf2a6-18d3-421b-96bc-da686e84f8b6"
      },
      "outputs": [
        {
          "output_type": "stream",
          "name": "stdout",
          "text": [
            "Looking in indexes: https://pypi.org/simple, https://us-python.pkg.dev/colab-wheels/public/simple/\n",
            "Collecting utils\n",
            "  Downloading utils-1.0.1-py2.py3-none-any.whl (21 kB)\n",
            "Installing collected packages: utils\n",
            "Successfully installed utils-1.0.1\n"
          ]
        }
      ],
      "source": [
        "! pip install utils\n",
        "import numpy as np\n",
        "# from python_utils import *\n",
        "from utils import *"
      ]
    },
    {
      "cell_type": "markdown",
      "source": [
        ""
      ],
      "metadata": {
        "id": "0s8eDrLzr8g4"
      }
    },
    {
      "cell_type": "code",
      "source": [
        "num_states = 6\n",
        "num_actions = 2"
      ],
      "metadata": {
        "id": "EgzceGTTQ8z3"
      },
      "execution_count": 14,
      "outputs": []
    },
    {
      "cell_type": "code",
      "source": [
        "terminal_left_reward =100\n",
        "terminal_right_reward = 40\n",
        "each_step_reward = 0\n",
        "\n",
        "# discount factor\n",
        "gamma =0.5\n",
        "misstep_probability = 0\n"
      ],
      "metadata": {
        "id": "D8uR7n3VRCm2"
      },
      "execution_count": 15,
      "outputs": []
    },
    {
      "cell_type": "code",
      "source": [
        "generate_visualization(terminal_left_reward, terminal_right_reward, each_step_reward,gamma, misstep_probability)"
      ],
      "metadata": {
        "colab": {
          "base_uri": "https://localhost:8080/",
          "height": 165
        },
        "id": "mQnB5EKKRU22",
        "outputId": "50acfa54-0788-4575-d1df-81c58c5e34b4"
      },
      "execution_count": 18,
      "outputs": [
        {
          "output_type": "error",
          "ename": "NameError",
          "evalue": "ignored",
          "traceback": [
            "\u001b[0;31m---------------------------------------------------------------------------\u001b[0m",
            "\u001b[0;31mNameError\u001b[0m                                 Traceback (most recent call last)",
            "\u001b[0;32m<ipython-input-18-0687739fb861>\u001b[0m in \u001b[0;36m<module>\u001b[0;34m\u001b[0m\n\u001b[0;32m----> 1\u001b[0;31m \u001b[0mgenerate_visualization\u001b[0m\u001b[0;34m(\u001b[0m\u001b[0mterminal_left_reward\u001b[0m\u001b[0;34m,\u001b[0m \u001b[0mterminal_right_reward\u001b[0m\u001b[0;34m,\u001b[0m \u001b[0meach_step_reward\u001b[0m\u001b[0;34m,\u001b[0m\u001b[0mgamma\u001b[0m\u001b[0;34m,\u001b[0m \u001b[0mmisstep_probability\u001b[0m\u001b[0;34m)\u001b[0m\u001b[0;34m\u001b[0m\u001b[0;34m\u001b[0m\u001b[0m\n\u001b[0m",
            "\u001b[0;31mNameError\u001b[0m: name 'generate_visualization' is not defined"
          ]
        }
      ]
    },
    {
      "cell_type": "code",
      "source": [
        ""
      ],
      "metadata": {
        "id": "u2HpNtewRpk9"
      },
      "execution_count": null,
      "outputs": []
    }
  ]
}